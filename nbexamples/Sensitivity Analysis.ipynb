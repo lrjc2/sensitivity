{
 "cells": [
  {
   "cell_type": "markdown",
   "metadata": {},
   "source": [
    "# Sensitivity Analysis in Python\n",
    "\n",
    "This guide is organized in the following sections:\n",
    "\n",
    "- [**Sensitivity Analysis Theory**](#What-is-Sensitivity-Analysis%3F)\n",
    "- [**The Hard Way**](#How-to-Do-Sensitivity-Analysis-in-Python%3F)\n",
    "- [**The Easy Way (use `sensitivity`)**](#Using-The-Sensitivity-Library)\n",
    "\n",
    "## What is Sensitivity Analysis?\n",
    "\n",
    "Sensitivity Analysis is the process of passing different inputs to a model to see how the outputs change. It differs from Monte Carlo Simulation in that no probability distributions are assigned to the inputs, and typically larger ranges of the inputs are chosen. The purpose of Sensitivity Analysis is to understand how the outputs change over the full range of possible inputs. Sensitivity Analysis does not derive any expected outcome or a probability distribution of outcomes, instead returning a range of possible output values associated with each set of inputs.\n",
    "\n",
    "The general process for Sensitivity Analysis is as follows:\n",
    "\n",
    "For the model given by:\n",
    "\n",
    "$$y = f(X)$$\n",
    "$$X = [x_1, x_2, ..., x_n]$$\n",
    "\n",
    "Where:\n",
    "\n",
    "- $y$: Model output\n",
    "- $X$: Model input matrix\n",
    "- $x_i$ Value if $i$th $x$ variable\n",
    "\n",
    "Follow the following steps:\n",
    "\n",
    "- Choose a set of values for each $x_i$\n",
    "- Take the cartesian product of these values as $[X_1, X_2, ..., X_m]$\n",
    "- For each $X_i$, calculate $y_i = f(X_i)$\n",
    "- Store the values of $X_i$ mapped to $y_i$\n",
    "- Visualize $y_i$ versus $X_i$\n",
    "\n",
    "## How to Do Sensitivity Analysis in Python?\n",
    "\n",
    "\n",
    "Abstract algorithms are great, but let's see the code that can make this happen. First we'll import pandas to use later and define a function which represents the model:"
   ]
  },
  {
   "cell_type": "code",
   "execution_count": 1,
   "metadata": {},
   "outputs": [],
   "source": [
    "import pandas as pd\n",
    "\n",
    "def my_model(x_1, x_2):\n",
    "    \"\"\"\n",
    "    Represents f from above\n",
    "    \"\"\"\n",
    "    return x_1 ** x_2"
   ]
  },
  {
   "cell_type": "markdown",
   "metadata": {},
   "source": [
    "We can run this model once to get a single result:"
   ]
  },
  {
   "cell_type": "code",
   "execution_count": 2,
   "metadata": {},
   "outputs": [
    {
     "data": {
      "text/plain": [
       "16"
      ]
     },
     "execution_count": 2,
     "metadata": {},
     "output_type": "execute_result"
    }
   ],
   "source": [
    "y = my_model(2, 4)\n",
    "y"
   ]
  },
  {
   "cell_type": "markdown",
   "metadata": {},
   "source": [
    "Now let's go step by step through the above algorithm. First let's choose a set of values for each $x_i$:"
   ]
  },
  {
   "cell_type": "code",
   "execution_count": 3,
   "metadata": {},
   "outputs": [],
   "source": [
    "x1_values = [10, 20, 30]\n",
    "x2_values = [1, 2, 3]"
   ]
  },
  {
   "cell_type": "markdown",
   "metadata": {},
   "source": [
    "While we can use `itertools.product` to take a cartesian product of an arbitrary number of inputs, a more straightforward approach is to use nested for loops. A for loop within a for loop will run with each combination of the inputs."
   ]
  },
  {
   "cell_type": "code",
   "execution_count": 4,
   "metadata": {},
   "outputs": [
    {
     "name": "stdout",
     "output_type": "stream",
     "text": [
      "10 1\n",
      "10 2\n",
      "10 3\n",
      "20 1\n",
      "20 2\n",
      "20 3\n",
      "30 1\n",
      "30 2\n",
      "30 3\n"
     ]
    }
   ],
   "source": [
    "for x1 in x1_values:\n",
    "    for x2 in x2_values:\n",
    "        print(x1, x2)"
   ]
  },
  {
   "cell_type": "markdown",
   "metadata": {},
   "source": [
    "Now we have each $X_i$, we need to calculate $y_i = f(X_i)$:"
   ]
  },
  {
   "cell_type": "code",
   "execution_count": 5,
   "metadata": {},
   "outputs": [
    {
     "name": "stdout",
     "output_type": "stream",
     "text": [
      "10\n",
      "100\n",
      "1000\n",
      "20\n",
      "400\n",
      "8000\n",
      "30\n",
      "900\n",
      "27000\n"
     ]
    }
   ],
   "source": [
    "for x1 in x1_values:\n",
    "    for x2 in x2_values:\n",
    "        y_i = my_model(x1, x2)\n",
    "        print(y_i)"
   ]
  },
  {
   "cell_type": "markdown",
   "metadata": {},
   "source": [
    "Now store the values of $X_i$ mapped to $y_i$:"
   ]
  },
  {
   "cell_type": "code",
   "execution_count": 6,
   "metadata": {},
   "outputs": [
    {
     "data": {
      "text/plain": [
       "[(10, 1, 10),\n",
       " (10, 2, 100),\n",
       " (10, 3, 1000),\n",
       " (20, 1, 20),\n",
       " (20, 2, 400),\n",
       " (20, 3, 8000),\n",
       " (30, 1, 30),\n",
       " (30, 2, 900),\n",
       " (30, 3, 27000)]"
      ]
     },
     "execution_count": 6,
     "metadata": {},
     "output_type": "execute_result"
    }
   ],
   "source": [
    "outputs = []\n",
    "for x1 in x1_values:\n",
    "    for x2 in x2_values:\n",
    "        y_i = my_model(x1, x2)\n",
    "        outputs.append((x1, x2, y_i))\n",
    "outputs"
   ]
  },
  {
   "cell_type": "markdown",
   "metadata": {},
   "source": [
    "Now the last is to visualize the result. We can do this with a table format through a `DataFrame`:"
   ]
  },
  {
   "cell_type": "code",
   "execution_count": 7,
   "metadata": {},
   "outputs": [
    {
     "data": {
      "text/html": [
       "<div>\n",
       "<style scoped>\n",
       "    .dataframe tbody tr th:only-of-type {\n",
       "        vertical-align: middle;\n",
       "    }\n",
       "\n",
       "    .dataframe tbody tr th {\n",
       "        vertical-align: top;\n",
       "    }\n",
       "\n",
       "    .dataframe thead th {\n",
       "        text-align: right;\n",
       "    }\n",
       "</style>\n",
       "<table border=\"1\" class=\"dataframe\">\n",
       "  <thead>\n",
       "    <tr style=\"text-align: right;\">\n",
       "      <th></th>\n",
       "      <th>x_1</th>\n",
       "      <th>x_2</th>\n",
       "      <th>y</th>\n",
       "    </tr>\n",
       "  </thead>\n",
       "  <tbody>\n",
       "    <tr>\n",
       "      <th>0</th>\n",
       "      <td>10</td>\n",
       "      <td>1</td>\n",
       "      <td>10</td>\n",
       "    </tr>\n",
       "    <tr>\n",
       "      <th>1</th>\n",
       "      <td>10</td>\n",
       "      <td>2</td>\n",
       "      <td>100</td>\n",
       "    </tr>\n",
       "    <tr>\n",
       "      <th>2</th>\n",
       "      <td>10</td>\n",
       "      <td>3</td>\n",
       "      <td>1000</td>\n",
       "    </tr>\n",
       "    <tr>\n",
       "      <th>3</th>\n",
       "      <td>20</td>\n",
       "      <td>1</td>\n",
       "      <td>20</td>\n",
       "    </tr>\n",
       "    <tr>\n",
       "      <th>4</th>\n",
       "      <td>20</td>\n",
       "      <td>2</td>\n",
       "      <td>400</td>\n",
       "    </tr>\n",
       "    <tr>\n",
       "      <th>5</th>\n",
       "      <td>20</td>\n",
       "      <td>3</td>\n",
       "      <td>8000</td>\n",
       "    </tr>\n",
       "    <tr>\n",
       "      <th>6</th>\n",
       "      <td>30</td>\n",
       "      <td>1</td>\n",
       "      <td>30</td>\n",
       "    </tr>\n",
       "    <tr>\n",
       "      <th>7</th>\n",
       "      <td>30</td>\n",
       "      <td>2</td>\n",
       "      <td>900</td>\n",
       "    </tr>\n",
       "    <tr>\n",
       "      <th>8</th>\n",
       "      <td>30</td>\n",
       "      <td>3</td>\n",
       "      <td>27000</td>\n",
       "    </tr>\n",
       "  </tbody>\n",
       "</table>\n",
       "</div>"
      ],
      "text/plain": [
       "   x_1  x_2      y\n",
       "0   10    1     10\n",
       "1   10    2    100\n",
       "2   10    3   1000\n",
       "3   20    1     20\n",
       "4   20    2    400\n",
       "5   20    3   8000\n",
       "6   30    1     30\n",
       "7   30    2    900\n",
       "8   30    3  27000"
      ]
     },
     "execution_count": 7,
     "metadata": {},
     "output_type": "execute_result"
    }
   ],
   "source": [
    "df = pd.DataFrame(outputs, columns=['x_1', 'x_2', 'y'])\n",
    "df"
   ]
  },
  {
   "cell_type": "markdown",
   "metadata": {},
   "source": [
    "We can add some styling to the DataFrame to highlight the high and low values:"
   ]
  },
  {
   "cell_type": "code",
   "execution_count": 8,
   "metadata": {},
   "outputs": [
    {
     "data": {
      "text/html": [
       "<style  type=\"text/css\" >\n",
       "    #T_f5dfc2f6_4e54_11ea_b7d4_6f6a73dd225arow0_col2 {\n",
       "            background-color:  #a50026;\n",
       "            color:  #f1f1f1;\n",
       "        }    #T_f5dfc2f6_4e54_11ea_b7d4_6f6a73dd225arow1_col2 {\n",
       "            background-color:  #a50026;\n",
       "            color:  #f1f1f1;\n",
       "        }    #T_f5dfc2f6_4e54_11ea_b7d4_6f6a73dd225arow2_col2 {\n",
       "            background-color:  #b71126;\n",
       "            color:  #f1f1f1;\n",
       "        }    #T_f5dfc2f6_4e54_11ea_b7d4_6f6a73dd225arow3_col2 {\n",
       "            background-color:  #a50026;\n",
       "            color:  #f1f1f1;\n",
       "        }    #T_f5dfc2f6_4e54_11ea_b7d4_6f6a73dd225arow4_col2 {\n",
       "            background-color:  #ab0626;\n",
       "            color:  #f1f1f1;\n",
       "        }    #T_f5dfc2f6_4e54_11ea_b7d4_6f6a73dd225arow5_col2 {\n",
       "            background-color:  #fcaa5f;\n",
       "            color:  #000000;\n",
       "        }    #T_f5dfc2f6_4e54_11ea_b7d4_6f6a73dd225arow6_col2 {\n",
       "            background-color:  #a50026;\n",
       "            color:  #f1f1f1;\n",
       "        }    #T_f5dfc2f6_4e54_11ea_b7d4_6f6a73dd225arow7_col2 {\n",
       "            background-color:  #b50f26;\n",
       "            color:  #f1f1f1;\n",
       "        }    #T_f5dfc2f6_4e54_11ea_b7d4_6f6a73dd225arow8_col2 {\n",
       "            background-color:  #006837;\n",
       "            color:  #f1f1f1;\n",
       "        }</style><table id=\"T_f5dfc2f6_4e54_11ea_b7d4_6f6a73dd225a\" ><thead>    <tr>        <th class=\"blank level0\" ></th>        <th class=\"col_heading level0 col0\" >x_1</th>        <th class=\"col_heading level0 col1\" >x_2</th>        <th class=\"col_heading level0 col2\" >y</th>    </tr></thead><tbody>\n",
       "                <tr>\n",
       "                        <th id=\"T_f5dfc2f6_4e54_11ea_b7d4_6f6a73dd225alevel0_row0\" class=\"row_heading level0 row0\" >0</th>\n",
       "                        <td id=\"T_f5dfc2f6_4e54_11ea_b7d4_6f6a73dd225arow0_col0\" class=\"data row0 col0\" >10</td>\n",
       "                        <td id=\"T_f5dfc2f6_4e54_11ea_b7d4_6f6a73dd225arow0_col1\" class=\"data row0 col1\" >1</td>\n",
       "                        <td id=\"T_f5dfc2f6_4e54_11ea_b7d4_6f6a73dd225arow0_col2\" class=\"data row0 col2\" >10</td>\n",
       "            </tr>\n",
       "            <tr>\n",
       "                        <th id=\"T_f5dfc2f6_4e54_11ea_b7d4_6f6a73dd225alevel0_row1\" class=\"row_heading level0 row1\" >1</th>\n",
       "                        <td id=\"T_f5dfc2f6_4e54_11ea_b7d4_6f6a73dd225arow1_col0\" class=\"data row1 col0\" >10</td>\n",
       "                        <td id=\"T_f5dfc2f6_4e54_11ea_b7d4_6f6a73dd225arow1_col1\" class=\"data row1 col1\" >2</td>\n",
       "                        <td id=\"T_f5dfc2f6_4e54_11ea_b7d4_6f6a73dd225arow1_col2\" class=\"data row1 col2\" >100</td>\n",
       "            </tr>\n",
       "            <tr>\n",
       "                        <th id=\"T_f5dfc2f6_4e54_11ea_b7d4_6f6a73dd225alevel0_row2\" class=\"row_heading level0 row2\" >2</th>\n",
       "                        <td id=\"T_f5dfc2f6_4e54_11ea_b7d4_6f6a73dd225arow2_col0\" class=\"data row2 col0\" >10</td>\n",
       "                        <td id=\"T_f5dfc2f6_4e54_11ea_b7d4_6f6a73dd225arow2_col1\" class=\"data row2 col1\" >3</td>\n",
       "                        <td id=\"T_f5dfc2f6_4e54_11ea_b7d4_6f6a73dd225arow2_col2\" class=\"data row2 col2\" >1000</td>\n",
       "            </tr>\n",
       "            <tr>\n",
       "                        <th id=\"T_f5dfc2f6_4e54_11ea_b7d4_6f6a73dd225alevel0_row3\" class=\"row_heading level0 row3\" >3</th>\n",
       "                        <td id=\"T_f5dfc2f6_4e54_11ea_b7d4_6f6a73dd225arow3_col0\" class=\"data row3 col0\" >20</td>\n",
       "                        <td id=\"T_f5dfc2f6_4e54_11ea_b7d4_6f6a73dd225arow3_col1\" class=\"data row3 col1\" >1</td>\n",
       "                        <td id=\"T_f5dfc2f6_4e54_11ea_b7d4_6f6a73dd225arow3_col2\" class=\"data row3 col2\" >20</td>\n",
       "            </tr>\n",
       "            <tr>\n",
       "                        <th id=\"T_f5dfc2f6_4e54_11ea_b7d4_6f6a73dd225alevel0_row4\" class=\"row_heading level0 row4\" >4</th>\n",
       "                        <td id=\"T_f5dfc2f6_4e54_11ea_b7d4_6f6a73dd225arow4_col0\" class=\"data row4 col0\" >20</td>\n",
       "                        <td id=\"T_f5dfc2f6_4e54_11ea_b7d4_6f6a73dd225arow4_col1\" class=\"data row4 col1\" >2</td>\n",
       "                        <td id=\"T_f5dfc2f6_4e54_11ea_b7d4_6f6a73dd225arow4_col2\" class=\"data row4 col2\" >400</td>\n",
       "            </tr>\n",
       "            <tr>\n",
       "                        <th id=\"T_f5dfc2f6_4e54_11ea_b7d4_6f6a73dd225alevel0_row5\" class=\"row_heading level0 row5\" >5</th>\n",
       "                        <td id=\"T_f5dfc2f6_4e54_11ea_b7d4_6f6a73dd225arow5_col0\" class=\"data row5 col0\" >20</td>\n",
       "                        <td id=\"T_f5dfc2f6_4e54_11ea_b7d4_6f6a73dd225arow5_col1\" class=\"data row5 col1\" >3</td>\n",
       "                        <td id=\"T_f5dfc2f6_4e54_11ea_b7d4_6f6a73dd225arow5_col2\" class=\"data row5 col2\" >8000</td>\n",
       "            </tr>\n",
       "            <tr>\n",
       "                        <th id=\"T_f5dfc2f6_4e54_11ea_b7d4_6f6a73dd225alevel0_row6\" class=\"row_heading level0 row6\" >6</th>\n",
       "                        <td id=\"T_f5dfc2f6_4e54_11ea_b7d4_6f6a73dd225arow6_col0\" class=\"data row6 col0\" >30</td>\n",
       "                        <td id=\"T_f5dfc2f6_4e54_11ea_b7d4_6f6a73dd225arow6_col1\" class=\"data row6 col1\" >1</td>\n",
       "                        <td id=\"T_f5dfc2f6_4e54_11ea_b7d4_6f6a73dd225arow6_col2\" class=\"data row6 col2\" >30</td>\n",
       "            </tr>\n",
       "            <tr>\n",
       "                        <th id=\"T_f5dfc2f6_4e54_11ea_b7d4_6f6a73dd225alevel0_row7\" class=\"row_heading level0 row7\" >7</th>\n",
       "                        <td id=\"T_f5dfc2f6_4e54_11ea_b7d4_6f6a73dd225arow7_col0\" class=\"data row7 col0\" >30</td>\n",
       "                        <td id=\"T_f5dfc2f6_4e54_11ea_b7d4_6f6a73dd225arow7_col1\" class=\"data row7 col1\" >2</td>\n",
       "                        <td id=\"T_f5dfc2f6_4e54_11ea_b7d4_6f6a73dd225arow7_col2\" class=\"data row7 col2\" >900</td>\n",
       "            </tr>\n",
       "            <tr>\n",
       "                        <th id=\"T_f5dfc2f6_4e54_11ea_b7d4_6f6a73dd225alevel0_row8\" class=\"row_heading level0 row8\" >8</th>\n",
       "                        <td id=\"T_f5dfc2f6_4e54_11ea_b7d4_6f6a73dd225arow8_col0\" class=\"data row8 col0\" >30</td>\n",
       "                        <td id=\"T_f5dfc2f6_4e54_11ea_b7d4_6f6a73dd225arow8_col1\" class=\"data row8 col1\" >3</td>\n",
       "                        <td id=\"T_f5dfc2f6_4e54_11ea_b7d4_6f6a73dd225arow8_col2\" class=\"data row8 col2\" >27000</td>\n",
       "            </tr>\n",
       "    </tbody></table>"
      ],
      "text/plain": [
       "<pandas.io.formats.style.Styler at 0x7f0e02c99f98>"
      ]
     },
     "execution_count": 8,
     "metadata": {},
     "output_type": "execute_result"
    }
   ],
   "source": [
    "df.style.background_gradient(subset='y', cmap='RdYlGn')"
   ]
  },
  {
   "cell_type": "markdown",
   "metadata": {},
   "source": [
    "We can plot the result as well with a hex-bin plot."
   ]
  },
  {
   "cell_type": "code",
   "execution_count": 9,
   "metadata": {},
   "outputs": [
    {
     "name": "stderr",
     "output_type": "stream",
     "text": [
      "/home/nick/.local/share/virtualenvs/fin-model-course-eIFMSc8A/lib/python3.7/site-packages/pandas/plotting/_matplotlib/tools.py:298: MatplotlibDeprecationWarning: \n",
      "The rowNum attribute was deprecated in Matplotlib 3.2 and will be removed two minor releases later. Use ax.get_subplotspec().rowspan.start instead.\n",
      "  layout[ax.rowNum, ax.colNum] = ax.get_visible()\n",
      "/home/nick/.local/share/virtualenvs/fin-model-course-eIFMSc8A/lib/python3.7/site-packages/pandas/plotting/_matplotlib/tools.py:298: MatplotlibDeprecationWarning: \n",
      "The colNum attribute was deprecated in Matplotlib 3.2 and will be removed two minor releases later. Use ax.get_subplotspec().colspan.start instead.\n",
      "  layout[ax.rowNum, ax.colNum] = ax.get_visible()\n",
      "/home/nick/.local/share/virtualenvs/fin-model-course-eIFMSc8A/lib/python3.7/site-packages/pandas/plotting/_matplotlib/tools.py:304: MatplotlibDeprecationWarning: \n",
      "The rowNum attribute was deprecated in Matplotlib 3.2 and will be removed two minor releases later. Use ax.get_subplotspec().rowspan.start instead.\n",
      "  if not layout[ax.rowNum + 1, ax.colNum]:\n",
      "/home/nick/.local/share/virtualenvs/fin-model-course-eIFMSc8A/lib/python3.7/site-packages/pandas/plotting/_matplotlib/tools.py:304: MatplotlibDeprecationWarning: \n",
      "The colNum attribute was deprecated in Matplotlib 3.2 and will be removed two minor releases later. Use ax.get_subplotspec().colspan.start instead.\n",
      "  if not layout[ax.rowNum + 1, ax.colNum]:\n"
     ]
    },
    {
     "data": {
      "text/plain": [
       "<matplotlib.axes._subplots.AxesSubplot at 0x7f0e28a58668>"
      ]
     },
     "execution_count": 9,
     "metadata": {},
     "output_type": "execute_result"
    },
    {
     "data": {
      "image/png": "[encoded data removed]",
      "text/plain": [
       "<Figure size 432x288 with 2 Axes>"
      ]
     },
     "metadata": {
      "needs_background": "light"
     },
     "output_type": "display_data"
    }
   ],
   "source": [
    "df.plot.hexbin(x='x_1', y='x_2', C='y', gridsize=3, cmap='RdYlGn', sharex=False)"
   ]
  },
  {
   "cell_type": "markdown",
   "metadata": {},
   "source": [
    "## Using The Sensitivity Library\n",
    "\n",
    "The `sensitivity` package is designed around making this whole process easier. It is also able to handle more than two varying inputs with ease. The basic usage is to construct a dictionary where the keys are the names of inputs in a function and values are iterables of the values for that input. Then this dictionary is passed to `SensitivityAnalyzer` along with the function. The rest is handled for you. "
   ]
  },
  {
   "cell_type": "code",
   "execution_count": 10,
   "metadata": {},
   "outputs": [],
   "source": [
    "from sensitivity import SensitivityAnalyzer\n",
    "\n",
    "sensitivity_dict = {\n",
    "    'x_1': [10, 20, 30],\n",
    "    'x_2': [1, 2, 3]\n",
    "}\n",
    "\n",
    "sa = SensitivityAnalyzer(sensitivity_dict, my_model)"
   ]
  },
  {
   "cell_type": "markdown",
   "metadata": {},
   "source": [
    "Now that we have created the `SensitivityAnalyzer` object, it has finished the sensitivity analysis. We can view a `DataFrame` with the results at `.df`:"
   ]
  },
  {
   "cell_type": "code",
   "execution_count": 11,
   "metadata": {},
   "outputs": [
    {
     "data": {
      "text/html": [
       "<div>\n",
       "<style scoped>\n",
       "    .dataframe tbody tr th:only-of-type {\n",
       "        vertical-align: middle;\n",
       "    }\n",
       "\n",
       "    .dataframe tbody tr th {\n",
       "        vertical-align: top;\n",
       "    }\n",
       "\n",
       "    .dataframe thead th {\n",
       "        text-align: right;\n",
       "    }\n",
       "</style>\n",
       "<table border=\"1\" class=\"dataframe\">\n",
       "  <thead>\n",
       "    <tr style=\"text-align: right;\">\n",
       "      <th></th>\n",
       "      <th>x_1</th>\n",
       "      <th>x_2</th>\n",
       "      <th>Result</th>\n",
       "    </tr>\n",
       "  </thead>\n",
       "  <tbody>\n",
       "    <tr>\n",
       "      <th>0</th>\n",
       "      <td>10</td>\n",
       "      <td>1</td>\n",
       "      <td>10</td>\n",
       "    </tr>\n",
       "    <tr>\n",
       "      <th>1</th>\n",
       "      <td>10</td>\n",
       "      <td>2</td>\n",
       "      <td>100</td>\n",
       "    </tr>\n",
       "    <tr>\n",
       "      <th>2</th>\n",
       "      <td>10</td>\n",
       "      <td>3</td>\n",
       "      <td>1000</td>\n",
       "    </tr>\n",
       "    <tr>\n",
       "      <th>3</th>\n",
       "      <td>20</td>\n",
       "      <td>1</td>\n",
       "      <td>20</td>\n",
       "    </tr>\n",
       "    <tr>\n",
       "      <th>4</th>\n",
       "      <td>20</td>\n",
       "      <td>2</td>\n",
       "      <td>400</td>\n",
       "    </tr>\n",
       "    <tr>\n",
       "      <th>5</th>\n",
       "      <td>20</td>\n",
       "      <td>3</td>\n",
       "      <td>8000</td>\n",
       "    </tr>\n",
       "    <tr>\n",
       "      <th>6</th>\n",
       "      <td>30</td>\n",
       "      <td>1</td>\n",
       "      <td>30</td>\n",
       "    </tr>\n",
       "    <tr>\n",
       "      <th>7</th>\n",
       "      <td>30</td>\n",
       "      <td>2</td>\n",
       "      <td>900</td>\n",
       "    </tr>\n",
       "    <tr>\n",
       "      <th>8</th>\n",
       "      <td>30</td>\n",
       "      <td>3</td>\n",
       "      <td>27000</td>\n",
       "    </tr>\n",
       "  </tbody>\n",
       "</table>\n",
       "</div>"
      ],
      "text/plain": [
       "   x_1  x_2  Result\n",
       "0   10    1      10\n",
       "1   10    2     100\n",
       "2   10    3    1000\n",
       "3   20    1      20\n",
       "4   20    2     400\n",
       "5   20    3    8000\n",
       "6   30    1      30\n",
       "7   30    2     900\n",
       "8   30    3   27000"
      ]
     },
     "execution_count": 11,
     "metadata": {},
     "output_type": "execute_result"
    }
   ],
   "source": [
    "sa.df"
   ]
  },
  {
   "cell_type": "markdown",
   "metadata": {},
   "source": [
    "We can also get the hex-bin plot and styled DataFrame: "
   ]
  },
  {
   "cell_type": "code",
   "execution_count": 12,
   "metadata": {},
   "outputs": [
    {
     "data": {
      "image/png": "[encoded data removed]",
      "text/plain": [
       "<Figure size 1080x288 with 2 Axes>"
      ]
     },
     "metadata": {
      "needs_background": "light"
     },
     "output_type": "display_data"
    }
   ],
   "source": [
    "plot = sa.plot()"
   ]
  },
  {
   "cell_type": "code",
   "execution_count": 13,
   "metadata": {},
   "outputs": [
    {
     "data": {
      "text/html": [
       "<h2>Result by x_1 vs. x_2</h2>"
      ],
      "text/plain": [
       "<IPython.core.display.HTML object>"
      ]
     },
     "metadata": {},
     "output_type": "display_data"
    },
    {
     "data": {
      "text/html": [
       "<style  type=\"text/css\" >\n",
       "    #T_f6ca0e2e_4e54_11ea_b7d4_6f6a73dd225arow0_col0 {\n",
       "            background-color:  #a50026;\n",
       "            color:  #f1f1f1;\n",
       "        }    #T_f6ca0e2e_4e54_11ea_b7d4_6f6a73dd225arow0_col1 {\n",
       "            background-color:  #a50026;\n",
       "            color:  #f1f1f1;\n",
       "        }    #T_f6ca0e2e_4e54_11ea_b7d4_6f6a73dd225arow0_col2 {\n",
       "            background-color:  #b71126;\n",
       "            color:  #f1f1f1;\n",
       "        }    #T_f6ca0e2e_4e54_11ea_b7d4_6f6a73dd225arow1_col0 {\n",
       "            background-color:  #a50026;\n",
       "            color:  #f1f1f1;\n",
       "        }    #T_f6ca0e2e_4e54_11ea_b7d4_6f6a73dd225arow1_col1 {\n",
       "            background-color:  #ab0626;\n",
       "            color:  #f1f1f1;\n",
       "        }    #T_f6ca0e2e_4e54_11ea_b7d4_6f6a73dd225arow1_col2 {\n",
       "            background-color:  #fcaa5f;\n",
       "            color:  #000000;\n",
       "        }    #T_f6ca0e2e_4e54_11ea_b7d4_6f6a73dd225arow2_col0 {\n",
       "            background-color:  #a50026;\n",
       "            color:  #f1f1f1;\n",
       "        }    #T_f6ca0e2e_4e54_11ea_b7d4_6f6a73dd225arow2_col1 {\n",
       "            background-color:  #b50f26;\n",
       "            color:  #f1f1f1;\n",
       "        }    #T_f6ca0e2e_4e54_11ea_b7d4_6f6a73dd225arow2_col2 {\n",
       "            background-color:  #006837;\n",
       "            color:  #f1f1f1;\n",
       "        }</style><table id=\"T_f6ca0e2e_4e54_11ea_b7d4_6f6a73dd225a\" ><caption>Result - x_1 vs. x_2</caption><thead>    <tr>        <th class=\"blank level0\" ></th>        <th class=\"col_heading level0 col0\" >1</th>        <th class=\"col_heading level0 col1\" >2</th>        <th class=\"col_heading level0 col2\" >3</th>    </tr>    <tr>        <th class=\"index_name level0\" >x_1</th>        <th class=\"blank\" ></th>        <th class=\"blank\" ></th>        <th class=\"blank\" ></th>    </tr></thead><tbody>\n",
       "                <tr>\n",
       "                        <th id=\"T_f6ca0e2e_4e54_11ea_b7d4_6f6a73dd225alevel0_row0\" class=\"row_heading level0 row0\" >10</th>\n",
       "                        <td id=\"T_f6ca0e2e_4e54_11ea_b7d4_6f6a73dd225arow0_col0\" class=\"data row0 col0\" >10.000000</td>\n",
       "                        <td id=\"T_f6ca0e2e_4e54_11ea_b7d4_6f6a73dd225arow0_col1\" class=\"data row0 col1\" >100.000000</td>\n",
       "                        <td id=\"T_f6ca0e2e_4e54_11ea_b7d4_6f6a73dd225arow0_col2\" class=\"data row0 col2\" >1000.000000</td>\n",
       "            </tr>\n",
       "            <tr>\n",
       "                        <th id=\"T_f6ca0e2e_4e54_11ea_b7d4_6f6a73dd225alevel0_row1\" class=\"row_heading level0 row1\" >20</th>\n",
       "                        <td id=\"T_f6ca0e2e_4e54_11ea_b7d4_6f6a73dd225arow1_col0\" class=\"data row1 col0\" >20.000000</td>\n",
       "                        <td id=\"T_f6ca0e2e_4e54_11ea_b7d4_6f6a73dd225arow1_col1\" class=\"data row1 col1\" >400.000000</td>\n",
       "                        <td id=\"T_f6ca0e2e_4e54_11ea_b7d4_6f6a73dd225arow1_col2\" class=\"data row1 col2\" >8000.000000</td>\n",
       "            </tr>\n",
       "            <tr>\n",
       "                        <th id=\"T_f6ca0e2e_4e54_11ea_b7d4_6f6a73dd225alevel0_row2\" class=\"row_heading level0 row2\" >30</th>\n",
       "                        <td id=\"T_f6ca0e2e_4e54_11ea_b7d4_6f6a73dd225arow2_col0\" class=\"data row2 col0\" >30.000000</td>\n",
       "                        <td id=\"T_f6ca0e2e_4e54_11ea_b7d4_6f6a73dd225arow2_col1\" class=\"data row2 col1\" >900.000000</td>\n",
       "                        <td id=\"T_f6ca0e2e_4e54_11ea_b7d4_6f6a73dd225arow2_col2\" class=\"data row2 col2\" >27000.000000</td>\n",
       "            </tr>\n",
       "    </tbody></table>"
      ],
      "text/plain": [
       "<IPython.core.display.HTML object>"
      ]
     },
     "metadata": {},
     "output_type": "display_data"
    }
   ],
   "source": [
    "styled = sa.styled_dfs()"
   ]
  },
  {
   "cell_type": "markdown",
   "metadata": {},
   "source": [
    "When creating the `SensitivityAnalyzer` object, you can pass other options for formatting the outputs:"
   ]
  },
  {
   "cell_type": "code",
   "execution_count": 14,
   "metadata": {},
   "outputs": [
    {
     "data": {
      "image/png": "[encoded data removed]",
      "text/plain": [
       "<Figure size 1080x288 with 2 Axes>"
      ]
     },
     "metadata": {
      "needs_background": "light"
     },
     "output_type": "display_data"
    }
   ],
   "source": [
    "sa = SensitivityAnalyzer(sensitivity_dict, my_model, grid_size=3, reverse_colors=True)\n",
    "plot = sa.plot()"
   ]
  },
  {
   "cell_type": "code",
   "execution_count": 15,
   "metadata": {},
   "outputs": [
    {
     "data": {
      "text/html": [
       "<h2>Result by x_1 vs. x_2</h2>"
      ],
      "text/plain": [
       "<IPython.core.display.HTML object>"
      ]
     },
     "metadata": {},
     "output_type": "display_data"
    },
    {
     "data": {
      "text/html": [
       "<style  type=\"text/css\" >\n",
       "    #T_f706db42_4e54_11ea_b7d4_6f6a73dd225arow0_col0 {\n",
       "            background-color:  #006837;\n",
       "            color:  #f1f1f1;\n",
       "        }    #T_f706db42_4e54_11ea_b7d4_6f6a73dd225arow0_col1 {\n",
       "            background-color:  #006837;\n",
       "            color:  #f1f1f1;\n",
       "        }    #T_f706db42_4e54_11ea_b7d4_6f6a73dd225arow0_col2 {\n",
       "            background-color:  #097940;\n",
       "            color:  #f1f1f1;\n",
       "        }    #T_f706db42_4e54_11ea_b7d4_6f6a73dd225arow1_col0 {\n",
       "            background-color:  #006837;\n",
       "            color:  #f1f1f1;\n",
       "        }    #T_f706db42_4e54_11ea_b7d4_6f6a73dd225arow1_col1 {\n",
       "            background-color:  #036e3a;\n",
       "            color:  #f1f1f1;\n",
       "        }    #T_f706db42_4e54_11ea_b7d4_6f6a73dd225arow1_col2 {\n",
       "            background-color:  #a2d76a;\n",
       "            color:  #000000;\n",
       "        }    #T_f706db42_4e54_11ea_b7d4_6f6a73dd225arow2_col0 {\n",
       "            background-color:  #006837;\n",
       "            color:  #f1f1f1;\n",
       "        }    #T_f706db42_4e54_11ea_b7d4_6f6a73dd225arow2_col1 {\n",
       "            background-color:  #08773f;\n",
       "            color:  #f1f1f1;\n",
       "        }    #T_f706db42_4e54_11ea_b7d4_6f6a73dd225arow2_col2 {\n",
       "            background-color:  #a50026;\n",
       "            color:  #f1f1f1;\n",
       "        }</style><table id=\"T_f706db42_4e54_11ea_b7d4_6f6a73dd225a\" ><caption>Result - x_1 vs. x_2</caption><thead>    <tr>        <th class=\"blank level0\" ></th>        <th class=\"col_heading level0 col0\" >1</th>        <th class=\"col_heading level0 col1\" >2</th>        <th class=\"col_heading level0 col2\" >3</th>    </tr>    <tr>        <th class=\"index_name level0\" >x_1</th>        <th class=\"blank\" ></th>        <th class=\"blank\" ></th>        <th class=\"blank\" ></th>    </tr></thead><tbody>\n",
       "                <tr>\n",
       "                        <th id=\"T_f706db42_4e54_11ea_b7d4_6f6a73dd225alevel0_row0\" class=\"row_heading level0 row0\" >10</th>\n",
       "                        <td id=\"T_f706db42_4e54_11ea_b7d4_6f6a73dd225arow0_col0\" class=\"data row0 col0\" >10.000000</td>\n",
       "                        <td id=\"T_f706db42_4e54_11ea_b7d4_6f6a73dd225arow0_col1\" class=\"data row0 col1\" >100.000000</td>\n",
       "                        <td id=\"T_f706db42_4e54_11ea_b7d4_6f6a73dd225arow0_col2\" class=\"data row0 col2\" >1000.000000</td>\n",
       "            </tr>\n",
       "            <tr>\n",
       "                        <th id=\"T_f706db42_4e54_11ea_b7d4_6f6a73dd225alevel0_row1\" class=\"row_heading level0 row1\" >20</th>\n",
       "                        <td id=\"T_f706db42_4e54_11ea_b7d4_6f6a73dd225arow1_col0\" class=\"data row1 col0\" >20.000000</td>\n",
       "                        <td id=\"T_f706db42_4e54_11ea_b7d4_6f6a73dd225arow1_col1\" class=\"data row1 col1\" >400.000000</td>\n",
       "                        <td id=\"T_f706db42_4e54_11ea_b7d4_6f6a73dd225arow1_col2\" class=\"data row1 col2\" >8000.000000</td>\n",
       "            </tr>\n",
       "            <tr>\n",
       "                        <th id=\"T_f706db42_4e54_11ea_b7d4_6f6a73dd225alevel0_row2\" class=\"row_heading level0 row2\" >30</th>\n",
       "                        <td id=\"T_f706db42_4e54_11ea_b7d4_6f6a73dd225arow2_col0\" class=\"data row2 col0\" >30.000000</td>\n",
       "                        <td id=\"T_f706db42_4e54_11ea_b7d4_6f6a73dd225arow2_col1\" class=\"data row2 col1\" >900.000000</td>\n",
       "                        <td id=\"T_f706db42_4e54_11ea_b7d4_6f6a73dd225arow2_col2\" class=\"data row2 col2\" >27000.000000</td>\n",
       "            </tr>\n",
       "    </tbody></table>"
      ],
      "text/plain": [
       "<IPython.core.display.HTML object>"
      ]
     },
     "metadata": {},
     "output_type": "display_data"
    }
   ],
   "source": [
    "styled = sa.styled_dfs()"
   ]
  },
  {
   "cell_type": "markdown",
   "metadata": {},
   "source": [
    "This all works with more than two inputs as well. In that case we will get multiple pair-wise plots and styled `DataFrame`s:"
   ]
  },
  {
   "cell_type": "code",
   "execution_count": 16,
   "metadata": {},
   "outputs": [],
   "source": [
    "def my_model_2(x_1, x_2, x_3):\n",
    "    return x_1 * x_2 ** x_3\n",
    "\n",
    "sensitivity_dict = {\n",
    "    'x_1': [1, 2, 3],\n",
    "    'x_2': [4, 5, 6],\n",
    "    'x_3': [7, 8, 9]\n",
    "}\n",
    "\n",
    "sa = SensitivityAnalyzer(sensitivity_dict, my_model_2, grid_size=3)"
   ]
  },
  {
   "cell_type": "code",
   "execution_count": 17,
   "metadata": {},
   "outputs": [
    {
     "data": {
      "image/png": "[encoded data removed]",
      "text/plain": [
       "<Figure size 1080x288 with 6 Axes>"
      ]
     },
     "metadata": {
      "needs_background": "light"
     },
     "output_type": "display_data"
    }
   ],
   "source": [
    "plot = sa.plot()"
   ]
  },
  {
   "cell_type": "code",
   "execution_count": 18,
   "metadata": {},
   "outputs": [
    {
     "data": {
      "text/html": [
       "<h2>Result by x_1 vs. x_2</h2>"
      ],
      "text/plain": [
       "<IPython.core.display.HTML object>"
      ]
     },
     "metadata": {},
     "output_type": "display_data"
    },
    {
     "data": {
      "text/html": [
       "<style  type=\"text/css\" >\n",
       "    #T_f7af1c58_4e54_11ea_b7d4_6f6a73dd225arow0_col0 {\n",
       "            background-color:  #a50026;\n",
       "            color:  #f1f1f1;\n",
       "        }    #T_f7af1c58_4e54_11ea_b7d4_6f6a73dd225arow0_col1 {\n",
       "            background-color:  #c01a27;\n",
       "            color:  #f1f1f1;\n",
       "        }    #T_f7af1c58_4e54_11ea_b7d4_6f6a73dd225arow0_col2 {\n",
       "            background-color:  #fdbb6c;\n",
       "            color:  #000000;\n",
       "        }    #T_f7af1c58_4e54_11ea_b7d4_6f6a73dd225arow1_col0 {\n",
       "            background-color:  #a90426;\n",
       "            color:  #f1f1f1;\n",
       "        }    #T_f7af1c58_4e54_11ea_b7d4_6f6a73dd225arow1_col1 {\n",
       "            background-color:  #de402e;\n",
       "            color:  #f1f1f1;\n",
       "        }    #T_f7af1c58_4e54_11ea_b7d4_6f6a73dd225arow1_col2 {\n",
       "            background-color:  #b9e176;\n",
       "            color:  #000000;\n",
       "        }    #T_f7af1c58_4e54_11ea_b7d4_6f6a73dd225arow2_col0 {\n",
       "            background-color:  #ad0826;\n",
       "            color:  #f1f1f1;\n",
       "        }    #T_f7af1c58_4e54_11ea_b7d4_6f6a73dd225arow2_col1 {\n",
       "            background-color:  #f26841;\n",
       "            color:  #000000;\n",
       "        }    #T_f7af1c58_4e54_11ea_b7d4_6f6a73dd225arow2_col2 {\n",
       "            background-color:  #006837;\n",
       "            color:  #f1f1f1;\n",
       "        }</style><table id=\"T_f7af1c58_4e54_11ea_b7d4_6f6a73dd225a\" ><caption>Result - x_1 vs. x_2</caption><thead>    <tr>        <th class=\"blank level0\" ></th>        <th class=\"col_heading level0 col0\" >4</th>        <th class=\"col_heading level0 col1\" >5</th>        <th class=\"col_heading level0 col2\" >6</th>    </tr>    <tr>        <th class=\"index_name level0\" >x_1</th>        <th class=\"blank\" ></th>        <th class=\"blank\" ></th>        <th class=\"blank\" ></th>    </tr></thead><tbody>\n",
       "                <tr>\n",
       "                        <th id=\"T_f7af1c58_4e54_11ea_b7d4_6f6a73dd225alevel0_row0\" class=\"row_heading level0 row0\" >1</th>\n",
       "                        <td id=\"T_f7af1c58_4e54_11ea_b7d4_6f6a73dd225arow0_col0\" class=\"data row0 col0\" >114688.000000</td>\n",
       "                        <td id=\"T_f7af1c58_4e54_11ea_b7d4_6f6a73dd225arow0_col1\" class=\"data row0 col1\" >807291.666667</td>\n",
       "                        <td id=\"T_f7af1c58_4e54_11ea_b7d4_6f6a73dd225arow0_col2\" class=\"data row0 col2\" >4012416.000000</td>\n",
       "            </tr>\n",
       "            <tr>\n",
       "                        <th id=\"T_f7af1c58_4e54_11ea_b7d4_6f6a73dd225alevel0_row1\" class=\"row_heading level0 row1\" >2</th>\n",
       "                        <td id=\"T_f7af1c58_4e54_11ea_b7d4_6f6a73dd225arow1_col0\" class=\"data row1 col0\" >229376.000000</td>\n",
       "                        <td id=\"T_f7af1c58_4e54_11ea_b7d4_6f6a73dd225arow1_col1\" class=\"data row1 col1\" >1614583.333333</td>\n",
       "                        <td id=\"T_f7af1c58_4e54_11ea_b7d4_6f6a73dd225arow1_col2\" class=\"data row1 col2\" >8024832.000000</td>\n",
       "            </tr>\n",
       "            <tr>\n",
       "                        <th id=\"T_f7af1c58_4e54_11ea_b7d4_6f6a73dd225alevel0_row2\" class=\"row_heading level0 row2\" >3</th>\n",
       "                        <td id=\"T_f7af1c58_4e54_11ea_b7d4_6f6a73dd225arow2_col0\" class=\"data row2 col0\" >344064.000000</td>\n",
       "                        <td id=\"T_f7af1c58_4e54_11ea_b7d4_6f6a73dd225arow2_col1\" class=\"data row2 col1\" >2421875.000000</td>\n",
       "                        <td id=\"T_f7af1c58_4e54_11ea_b7d4_6f6a73dd225arow2_col2\" class=\"data row2 col2\" >12037248.000000</td>\n",
       "            </tr>\n",
       "    </tbody></table>"
      ],
      "text/plain": [
       "<IPython.core.display.HTML object>"
      ]
     },
     "metadata": {},
     "output_type": "display_data"
    },
    {
     "data": {
      "text/html": [
       "<h2>Result by x_1 vs. x_3</h2>"
      ],
      "text/plain": [
       "<IPython.core.display.HTML object>"
      ]
     },
     "metadata": {},
     "output_type": "display_data"
    },
    {
     "data": {
      "text/html": [
       "<style  type=\"text/css\" >\n",
       "    #T_f7b087a0_4e54_11ea_b7d4_6f6a73dd225arow0_col0 {\n",
       "            background-color:  #a50026;\n",
       "            color:  #f1f1f1;\n",
       "        }    #T_f7b087a0_4e54_11ea_b7d4_6f6a73dd225arow0_col1 {\n",
       "            background-color:  #bd1726;\n",
       "            color:  #f1f1f1;\n",
       "        }    #T_f7b087a0_4e54_11ea_b7d4_6f6a73dd225arow0_col2 {\n",
       "            background-color:  #fdbb6c;\n",
       "            color:  #000000;\n",
       "        }    #T_f7b087a0_4e54_11ea_b7d4_6f6a73dd225arow1_col0 {\n",
       "            background-color:  #a90426;\n",
       "            color:  #f1f1f1;\n",
       "        }    #T_f7b087a0_4e54_11ea_b7d4_6f6a73dd225arow1_col1 {\n",
       "            background-color:  #d93429;\n",
       "            color:  #f1f1f1;\n",
       "        }    #T_f7b087a0_4e54_11ea_b7d4_6f6a73dd225arow1_col2 {\n",
       "            background-color:  #b9e176;\n",
       "            color:  #000000;\n",
       "        }    #T_f7b087a0_4e54_11ea_b7d4_6f6a73dd225arow2_col0 {\n",
       "            background-color:  #af0926;\n",
       "            color:  #f1f1f1;\n",
       "        }    #T_f7b087a0_4e54_11ea_b7d4_6f6a73dd225arow2_col1 {\n",
       "            background-color:  #ea5739;\n",
       "            color:  #000000;\n",
       "        }    #T_f7b087a0_4e54_11ea_b7d4_6f6a73dd225arow2_col2 {\n",
       "            background-color:  #006837;\n",
       "            color:  #f1f1f1;\n",
       "        }</style><table id=\"T_f7b087a0_4e54_11ea_b7d4_6f6a73dd225a\" ><caption>Result - x_1 vs. x_3</caption><thead>    <tr>        <th class=\"blank level0\" ></th>        <th class=\"col_heading level0 col0\" >7</th>        <th class=\"col_heading level0 col1\" >8</th>        <th class=\"col_heading level0 col2\" >9</th>    </tr>    <tr>        <th class=\"index_name level0\" >x_1</th>        <th class=\"blank\" ></th>        <th class=\"blank\" ></th>        <th class=\"blank\" ></th>    </tr></thead><tbody>\n",
       "                <tr>\n",
       "                        <th id=\"T_f7b087a0_4e54_11ea_b7d4_6f6a73dd225alevel0_row0\" class=\"row_heading level0 row0\" >1</th>\n",
       "                        <td id=\"T_f7b087a0_4e54_11ea_b7d4_6f6a73dd225arow0_col0\" class=\"data row0 col0\" >124815.000000</td>\n",
       "                        <td id=\"T_f7b087a0_4e54_11ea_b7d4_6f6a73dd225arow0_col1\" class=\"data row0 col1\" >711925.666667</td>\n",
       "                        <td id=\"T_f7b087a0_4e54_11ea_b7d4_6f6a73dd225arow0_col2\" class=\"data row0 col2\" >4097655.000000</td>\n",
       "            </tr>\n",
       "            <tr>\n",
       "                        <th id=\"T_f7b087a0_4e54_11ea_b7d4_6f6a73dd225alevel0_row1\" class=\"row_heading level0 row1\" >2</th>\n",
       "                        <td id=\"T_f7b087a0_4e54_11ea_b7d4_6f6a73dd225arow1_col0\" class=\"data row1 col0\" >249630.000000</td>\n",
       "                        <td id=\"T_f7b087a0_4e54_11ea_b7d4_6f6a73dd225arow1_col1\" class=\"data row1 col1\" >1423851.333333</td>\n",
       "                        <td id=\"T_f7b087a0_4e54_11ea_b7d4_6f6a73dd225arow1_col2\" class=\"data row1 col2\" >8195310.000000</td>\n",
       "            </tr>\n",
       "            <tr>\n",
       "                        <th id=\"T_f7b087a0_4e54_11ea_b7d4_6f6a73dd225alevel0_row2\" class=\"row_heading level0 row2\" >3</th>\n",
       "                        <td id=\"T_f7b087a0_4e54_11ea_b7d4_6f6a73dd225arow2_col0\" class=\"data row2 col0\" >374445.000000</td>\n",
       "                        <td id=\"T_f7b087a0_4e54_11ea_b7d4_6f6a73dd225arow2_col1\" class=\"data row2 col1\" >2135777.000000</td>\n",
       "                        <td id=\"T_f7b087a0_4e54_11ea_b7d4_6f6a73dd225arow2_col2\" class=\"data row2 col2\" >12292965.000000</td>\n",
       "            </tr>\n",
       "    </tbody></table>"
      ],
      "text/plain": [
       "<IPython.core.display.HTML object>"
      ]
     },
     "metadata": {},
     "output_type": "display_data"
    },
    {
     "data": {
      "text/html": [
       "<h2>Result by x_2 vs. x_3</h2>"
      ],
      "text/plain": [
       "<IPython.core.display.HTML object>"
      ]
     },
     "metadata": {},
     "output_type": "display_data"
    },
    {
     "data": {
      "text/html": [
       "<style  type=\"text/css\" >\n",
       "    #T_f7b23fa0_4e54_11ea_b7d4_6f6a73dd225arow0_col0 {\n",
       "            background-color:  #a50026;\n",
       "            color:  #f1f1f1;\n",
       "        }    #T_f7b23fa0_4e54_11ea_b7d4_6f6a73dd225arow0_col1 {\n",
       "            background-color:  #a70226;\n",
       "            color:  #f1f1f1;\n",
       "        }    #T_f7b23fa0_4e54_11ea_b7d4_6f6a73dd225arow0_col2 {\n",
       "            background-color:  #b10b26;\n",
       "            color:  #f1f1f1;\n",
       "        }    #T_f7b23fa0_4e54_11ea_b7d4_6f6a73dd225arow1_col0 {\n",
       "            background-color:  #a70226;\n",
       "            color:  #f1f1f1;\n",
       "        }    #T_f7b23fa0_4e54_11ea_b7d4_6f6a73dd225arow1_col1 {\n",
       "            background-color:  #b71126;\n",
       "            color:  #f1f1f1;\n",
       "        }    #T_f7b23fa0_4e54_11ea_b7d4_6f6a73dd225arow1_col2 {\n",
       "            background-color:  #f26841;\n",
       "            color:  #000000;\n",
       "        }    #T_f7b23fa0_4e54_11ea_b7d4_6f6a73dd225arow2_col0 {\n",
       "            background-color:  #b10b26;\n",
       "            color:  #f1f1f1;\n",
       "        }    #T_f7b23fa0_4e54_11ea_b7d4_6f6a73dd225arow2_col1 {\n",
       "            background-color:  #ea5739;\n",
       "            color:  #000000;\n",
       "        }    #T_f7b23fa0_4e54_11ea_b7d4_6f6a73dd225arow2_col2 {\n",
       "            background-color:  #006837;\n",
       "            color:  #f1f1f1;\n",
       "        }</style><table id=\"T_f7b23fa0_4e54_11ea_b7d4_6f6a73dd225a\" ><caption>Result - x_2 vs. x_3</caption><thead>    <tr>        <th class=\"blank level0\" ></th>        <th class=\"col_heading level0 col0\" >7</th>        <th class=\"col_heading level0 col1\" >8</th>        <th class=\"col_heading level0 col2\" >9</th>    </tr>    <tr>        <th class=\"index_name level0\" >x_2</th>        <th class=\"blank\" ></th>        <th class=\"blank\" ></th>        <th class=\"blank\" ></th>    </tr></thead><tbody>\n",
       "                <tr>\n",
       "                        <th id=\"T_f7b23fa0_4e54_11ea_b7d4_6f6a73dd225alevel0_row0\" class=\"row_heading level0 row0\" >4</th>\n",
       "                        <td id=\"T_f7b23fa0_4e54_11ea_b7d4_6f6a73dd225arow0_col0\" class=\"data row0 col0\" >32768.000000</td>\n",
       "                        <td id=\"T_f7b23fa0_4e54_11ea_b7d4_6f6a73dd225arow0_col1\" class=\"data row0 col1\" >131072.000000</td>\n",
       "                        <td id=\"T_f7b23fa0_4e54_11ea_b7d4_6f6a73dd225arow0_col2\" class=\"data row0 col2\" >524288.000000</td>\n",
       "            </tr>\n",
       "            <tr>\n",
       "                        <th id=\"T_f7b23fa0_4e54_11ea_b7d4_6f6a73dd225alevel0_row1\" class=\"row_heading level0 row1\" >5</th>\n",
       "                        <td id=\"T_f7b23fa0_4e54_11ea_b7d4_6f6a73dd225arow1_col0\" class=\"data row1 col0\" >156250.000000</td>\n",
       "                        <td id=\"T_f7b23fa0_4e54_11ea_b7d4_6f6a73dd225arow1_col1\" class=\"data row1 col1\" >781250.000000</td>\n",
       "                        <td id=\"T_f7b23fa0_4e54_11ea_b7d4_6f6a73dd225arow1_col2\" class=\"data row1 col2\" >3906250.000000</td>\n",
       "            </tr>\n",
       "            <tr>\n",
       "                        <th id=\"T_f7b23fa0_4e54_11ea_b7d4_6f6a73dd225alevel0_row2\" class=\"row_heading level0 row2\" >6</th>\n",
       "                        <td id=\"T_f7b23fa0_4e54_11ea_b7d4_6f6a73dd225arow2_col0\" class=\"data row2 col0\" >559872.000000</td>\n",
       "                        <td id=\"T_f7b23fa0_4e54_11ea_b7d4_6f6a73dd225arow2_col1\" class=\"data row2 col1\" >3359232.000000</td>\n",
       "                        <td id=\"T_f7b23fa0_4e54_11ea_b7d4_6f6a73dd225arow2_col2\" class=\"data row2 col2\" >20155392.000000</td>\n",
       "            </tr>\n",
       "    </tbody></table>"
      ],
      "text/plain": [
       "<IPython.core.display.HTML object>"
      ]
     },
     "metadata": {},
     "output_type": "display_data"
    }
   ],
   "source": [
    "styled_dict = sa.styled_dfs()"
   ]
  },
  {
   "cell_type": "markdown",
   "metadata": {},
   "source": [
    "The plot is still a single `Figure` object, but the `styled_dfs` produces a dictionary where there are more than two inputs. The keys of the dictionary are a tuple of the column names involved in the `Styler`, and the values are the `Styler`s."
   ]
  },
  {
   "cell_type": "code",
   "execution_count": 19,
   "metadata": {},
   "outputs": [
    {
     "data": {
      "text/plain": [
       "{('x_1', 'x_2'): <pandas.io.formats.style.Styler at 0x7f0df1fac0b8>,\n",
       " ('x_1', 'x_3'): <pandas.io.formats.style.Styler at 0x7f0dee6fb6d8>,\n",
       " ('x_2', 'x_3'): <pandas.io.formats.style.Styler at 0x7f0dee4f1278>}"
      ]
     },
     "execution_count": 19,
     "metadata": {},
     "output_type": "execute_result"
    }
   ],
   "source": [
    "styled_dict"
   ]
  }
 ],
 "metadata": {
  "kernelspec": {
   "display_name": "Python 3",
   "language": "python",
   "name": "python3"
  },
  "language_info": {
   "codemirror_mode": {
    "name": "ipython",
    "version": 3
   },
   "file_extension": ".py",
   "mimetype": "text/x-python",
   "name": "python",
   "nbconvert_exporter": "python",
   "pygments_lexer": "ipython3",
   "version": "3.7.3"
  }
 },
 "nbformat": 4,
 "nbformat_minor": 4
}
