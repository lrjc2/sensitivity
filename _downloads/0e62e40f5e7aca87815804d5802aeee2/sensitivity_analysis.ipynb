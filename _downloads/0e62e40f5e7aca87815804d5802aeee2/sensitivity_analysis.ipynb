{
  "cells": [
    {
      "cell_type": "code",
      "execution_count": null,
      "metadata": {
        "collapsed": false
      },
      "outputs": [],
      "source": [
        "%matplotlib inline"
      ]
    },
    {
      "cell_type": "markdown",
      "metadata": {},
      "source": [
        "\n# Sensitivity Analysis in Python\n\nThis guide is organized in the following sections:\n\n-  [Sensitivity Analysis Theory](#What-is-Sensitivity-Analysis%3F)_\n-  [The Hard Way](#How-to-Do-Sensitivity-Analysis-in-Python%3F)_\n-  `The Easy Way (use\n   ``sensitivity`[)](#Using-The-Sensitivity-Library)_\n\n## What is Sensitivity Analysis?\n\nSensitivity Analysis is the process of passing different inputs to a\nmodel to see how the outputs change. It differs from Monte Carlo\nSimulation in that no probability distributions are assigned to the\ninputs, and typically larger ranges of the inputs are chosen. The\npurpose of Sensitivity Analysis is to understand how the outputs change\nover the full range of possible inputs. Sensitivity Analysis does not\nderive any expected outcome or a probability distribution of outcomes,\ninstead returning a range of possible output values associated with each\nset of inputs.\n\nThe general process for Sensitivity Analysis is as follows:\n\nFor the model given by:\n\n\\begin{align}y = f(X)\\end{align}\n\n\\begin{align}X = [x_1, x_2, ..., x_n]\\end{align}\n\nWhere:\n\n-  $y$: Model output\n-  $X$: Model input matrix\n-  $x_i$ Value if $i$\\ th $x$ variable\n\nFollow the following steps:\n\n-  Choose a set of values for each $x_i$\n-  Take the cartesian product of these values as\n   $[X_1, X_2, ..., X_m]$\n-  For each $X_i$, calculate $y_i = f(X_i)$\n-  Store the values of $X_i$ mapped to $y_i$\n-  Visualize $y_i$ versus $X_i$\n\n## How to Do Sensitivity Analysis in Python?\n\nAbstract algorithms are great, but let\u2019s see the code that can make this\nhappen. First we\u2019ll import pandas to use later and define a function\nwhich represents the model:\n"
      ]
    },
    {
      "cell_type": "code",
      "execution_count": null,
      "metadata": {
        "collapsed": false
      },
      "outputs": [],
      "source": [
        "import pandas as pd\n\ndef my_model(x_1, x_2):\n    \"\"\"\n    Represents f from above\n    \"\"\"\n    return x_1 ** x_2"
      ]
    },
    {
      "cell_type": "markdown",
      "metadata": {},
      "source": [
        "We can run this model once to get a single result:\n\n\n"
      ]
    },
    {
      "cell_type": "code",
      "execution_count": null,
      "metadata": {
        "collapsed": false
      },
      "outputs": [],
      "source": [
        "y = my_model(2, 4)\ny"
      ]
    },
    {
      "cell_type": "markdown",
      "metadata": {},
      "source": [
        "Now let\u2019s go step by step through the above algorithm. First let\u2019s\nchoose a set of values for each $x_i$:\n\n\n"
      ]
    },
    {
      "cell_type": "code",
      "execution_count": null,
      "metadata": {
        "collapsed": false
      },
      "outputs": [],
      "source": [
        "x1_values = [10, 20, 30]\nx2_values = [1, 2, 3]"
      ]
    },
    {
      "cell_type": "markdown",
      "metadata": {},
      "source": [
        "While we can use ``itertools.product`` to take a cartesian product of an\narbitrary number of inputs, a more straightforward approach is to use\nnested for loops. A for loop within a for loop will run with each\ncombination of the inputs.\n\n\n"
      ]
    },
    {
      "cell_type": "code",
      "execution_count": null,
      "metadata": {
        "collapsed": false
      },
      "outputs": [],
      "source": [
        "for x1 in x1_values:\n    for x2 in x2_values:\n        print(x1, x2)"
      ]
    },
    {
      "cell_type": "markdown",
      "metadata": {},
      "source": [
        "Now we have each $X_i$, we need to calculate $y_i = f(X_i)$:\n\n\n"
      ]
    },
    {
      "cell_type": "code",
      "execution_count": null,
      "metadata": {
        "collapsed": false
      },
      "outputs": [],
      "source": [
        "for x1 in x1_values:\n    for x2 in x2_values:\n        y_i = my_model(x1, x2)\n        print(y_i)"
      ]
    },
    {
      "cell_type": "markdown",
      "metadata": {},
      "source": [
        "Now store the values of $X_i$ mapped to $y_i$:\n\n\n"
      ]
    },
    {
      "cell_type": "code",
      "execution_count": null,
      "metadata": {
        "collapsed": false
      },
      "outputs": [],
      "source": [
        "outputs = []\nfor x1 in x1_values:\n    for x2 in x2_values:\n        y_i = my_model(x1, x2)\n        outputs.append((x1, x2, y_i))\noutputs"
      ]
    },
    {
      "cell_type": "markdown",
      "metadata": {},
      "source": [
        "Now the last is to visualize the result. We can do this with a table\nformat through a ``DataFrame``:\n\n\n"
      ]
    },
    {
      "cell_type": "code",
      "execution_count": null,
      "metadata": {
        "collapsed": false
      },
      "outputs": [],
      "source": [
        "df = pd.DataFrame(outputs, columns=['x_1', 'x_2', 'y'])\ndf"
      ]
    },
    {
      "cell_type": "markdown",
      "metadata": {},
      "source": [
        "We can add some styling to the DataFrame to highlight the high and low\nvalues:\n\n\n"
      ]
    },
    {
      "cell_type": "code",
      "execution_count": null,
      "metadata": {
        "collapsed": false
      },
      "outputs": [],
      "source": [
        "df.style.background_gradient(subset='y', cmap='RdYlGn')"
      ]
    },
    {
      "cell_type": "markdown",
      "metadata": {},
      "source": [
        "We can plot the result as well with a hex-bin plot.\n\n\n"
      ]
    },
    {
      "cell_type": "code",
      "execution_count": null,
      "metadata": {
        "collapsed": false
      },
      "outputs": [],
      "source": [
        "df.plot.hexbin(x='x_1', y='x_2', C='y', gridsize=3, cmap='RdYlGn', sharex=False)"
      ]
    },
    {
      "cell_type": "markdown",
      "metadata": {},
      "source": [
        "## Using The Sensitivity Library\n\nThe ``sensitivity`` package is designed around making this whole process\neasier. It is also able to handle more than two varying inputs with\nease. The basic usage is to construct a dictionary where the keys are\nthe names of inputs in a function and values are iterables of the values\nfor that input. Then this dictionary is passed to\n``SensitivityAnalyzer`` along with the function. The rest is handled for\nyou.\n\n\n"
      ]
    },
    {
      "cell_type": "code",
      "execution_count": null,
      "metadata": {
        "collapsed": false
      },
      "outputs": [],
      "source": [
        "from sensitivity import SensitivityAnalyzer\n\nsensitivity_dict = {\n    'x_1': [10, 20, 30],\n    'x_2': [1, 2, 3]\n}\n\nsa = SensitivityAnalyzer(sensitivity_dict, my_model)"
      ]
    },
    {
      "cell_type": "markdown",
      "metadata": {},
      "source": [
        "Now that we have created the ``SensitivityAnalyzer`` object, it has\nfinished the sensitivity analysis. We can view a ``DataFrame`` with the\nresults at ``.df``:\n\n\n"
      ]
    },
    {
      "cell_type": "code",
      "execution_count": null,
      "metadata": {
        "collapsed": false
      },
      "outputs": [],
      "source": [
        "sa.df"
      ]
    },
    {
      "cell_type": "markdown",
      "metadata": {},
      "source": [
        "We can also get the hex-bin plot and styled DataFrame:\n\n\n"
      ]
    },
    {
      "cell_type": "code",
      "execution_count": null,
      "metadata": {
        "collapsed": false
      },
      "outputs": [],
      "source": [
        "plot = sa.plot()\n\nstyled = sa.styled_dfs()"
      ]
    },
    {
      "cell_type": "markdown",
      "metadata": {},
      "source": [
        "When creating the ``SensitivityAnalyzer`` object, you can pass other\noptions for formatting the outputs:\n\n\n"
      ]
    },
    {
      "cell_type": "code",
      "execution_count": null,
      "metadata": {
        "collapsed": false
      },
      "outputs": [],
      "source": [
        "labels = {\n    'x_1': 'First Input',\n    'x_2': 'Second Input'\n}\n\nsa = SensitivityAnalyzer(\n    sensitivity_dict, my_model, grid_size=3, reverse_colors=True, color_map='coolwarm', labels=labels\n)\nplot = sa.plot()\n\nstyled = sa.styled_dfs()"
      ]
    },
    {
      "cell_type": "markdown",
      "metadata": {},
      "source": [
        "This all works with more than two inputs as well. In that case we will\nget multiple pair-wise plots and styled ``DataFrame``\\ s:\n\n\n"
      ]
    },
    {
      "cell_type": "code",
      "execution_count": null,
      "metadata": {
        "collapsed": false
      },
      "outputs": [],
      "source": [
        "def my_model_2(x_1, x_2, x_3):\n    return x_1 * x_2 ** x_3\n\nsensitivity_dict = {\n    'x_1': [1, 2, 3],\n    'x_2': [4, 5, 6],\n    'x_3': [7, 8, 9]\n}\n\nsa = SensitivityAnalyzer(sensitivity_dict, my_model_2, grid_size=3)\n\nplot = sa.plot()\n\nstyled_dict = sa.styled_dfs()"
      ]
    },
    {
      "cell_type": "markdown",
      "metadata": {},
      "source": [
        "The plot is still a single ``Figure`` object, but the ``styled_dfs``\nproduces a dictionary where there are more than two inputs. The keys of\nthe dictionary are a tuple of the column names involved in the\n``Styler``, and the values are the ``Styler``\\ s.\n\n\n"
      ]
    },
    {
      "cell_type": "code",
      "execution_count": null,
      "metadata": {
        "collapsed": false
      },
      "outputs": [],
      "source": [
        "styled_dict"
      ]
    },
    {
      "cell_type": "markdown",
      "metadata": {},
      "source": [
        "### Adding Additional Styling to Styled ``DataFrames``\n\nIt could be desired to pass some number or other formatting to the\nstyled ``DataFrames``. This can be done with the ``num_fmt`` argument,\neither when first creating the ``SensitivityAnalyzer`` or when calling\nthe ``styled_dfs`` method. Just pass it the string of the number format,\nin the same way you would specify the number formatting string for\n``df.style.format``.\n\n\n"
      ]
    },
    {
      "cell_type": "code",
      "execution_count": null,
      "metadata": {
        "collapsed": false
      },
      "outputs": [],
      "source": [
        "styled_dict = sa.styled_dfs(num_fmt='${:,.0f}')"
      ]
    }
  ],
  "metadata": {
    "kernelspec": {
      "display_name": "Python 3",
      "language": "python",
      "name": "python3"
    },
    "language_info": {
      "codemirror_mode": {
        "name": "ipython",
        "version": 3
      },
      "file_extension": ".py",
      "mimetype": "text/x-python",
      "name": "python",
      "nbconvert_exporter": "python",
      "pygments_lexer": "ipython3",
      "version": "3.8.14"
    }
  },
  "nbformat": 4,
  "nbformat_minor": 0
}